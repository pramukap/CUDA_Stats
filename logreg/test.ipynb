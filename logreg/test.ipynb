{
 "cells": [
  {
   "cell_type": "markdown",
   "metadata": {},
   "source": [
    "# Logistic Regression CUDA Demonstration\n",
    "\n",
    "For this demo, we will compare the functionality of our CUDA-based LogisticRegression (called `LogReg`) to a numpy-based LogisticRegression (called `PyLogReg`)"
   ]
  },
  {
   "cell_type": "code",
   "execution_count": 1,
   "metadata": {},
   "outputs": [],
   "source": [
    "import pandas as pd\n",
    "import numpy as np\n",
    "import matplotlib.pyplot as plt\n",
    "from ctypes import *\n",
    "%matplotlib inline"
   ]
  },
  {
   "cell_type": "code",
   "execution_count": 2,
   "metadata": {},
   "outputs": [],
   "source": [
    "from classifiers import LogisticRegression as LogReg\n",
    "from classifiers import PyLogisticRegression as PyLogReg"
   ]
  },
  {
   "cell_type": "markdown",
   "metadata": {},
   "source": [
    "### Based on the House Prices Kaggle dataset.\n",
    "\n",
    "This isn't a likely appliciation for a Logistic Regression but we chose it anyway since the dataset is entirely numeric allowing us to manipulate it easily for use with our C-based implementation. We are changing the label `y` to be `True` if `price[i] > price.mean()`"
   ]
  },
  {
   "cell_type": "code",
   "execution_count": 3,
   "metadata": {},
   "outputs": [],
   "source": [
    "df = pd.read_csv('house_data.csv')"
   ]
  },
  {
   "cell_type": "code",
   "execution_count": 4,
   "metadata": {},
   "outputs": [
    {
     "data": {
      "text/html": [
       "<div>\n",
       "<style scoped>\n",
       "    .dataframe tbody tr th:only-of-type {\n",
       "        vertical-align: middle;\n",
       "    }\n",
       "\n",
       "    .dataframe tbody tr th {\n",
       "        vertical-align: top;\n",
       "    }\n",
       "\n",
       "    .dataframe thead th {\n",
       "        text-align: right;\n",
       "    }\n",
       "</style>\n",
       "<table border=\"1\" class=\"dataframe\">\n",
       "  <thead>\n",
       "    <tr style=\"text-align: right;\">\n",
       "      <th></th>\n",
       "      <th>price</th>\n",
       "      <th>bedrooms</th>\n",
       "      <th>bathrooms</th>\n",
       "      <th>sqft_living</th>\n",
       "      <th>sqft_lot</th>\n",
       "      <th>floors</th>\n",
       "      <th>condition</th>\n",
       "      <th>grade</th>\n",
       "      <th>yr_built</th>\n",
       "    </tr>\n",
       "  </thead>\n",
       "  <tbody>\n",
       "    <tr>\n",
       "      <th>0</th>\n",
       "      <td>221900.0</td>\n",
       "      <td>3</td>\n",
       "      <td>1.00</td>\n",
       "      <td>1180</td>\n",
       "      <td>5650</td>\n",
       "      <td>1.0</td>\n",
       "      <td>3</td>\n",
       "      <td>7</td>\n",
       "      <td>1955</td>\n",
       "    </tr>\n",
       "    <tr>\n",
       "      <th>1</th>\n",
       "      <td>538000.0</td>\n",
       "      <td>3</td>\n",
       "      <td>2.25</td>\n",
       "      <td>2570</td>\n",
       "      <td>7242</td>\n",
       "      <td>2.0</td>\n",
       "      <td>3</td>\n",
       "      <td>7</td>\n",
       "      <td>1951</td>\n",
       "    </tr>\n",
       "    <tr>\n",
       "      <th>2</th>\n",
       "      <td>180000.0</td>\n",
       "      <td>2</td>\n",
       "      <td>1.00</td>\n",
       "      <td>770</td>\n",
       "      <td>10000</td>\n",
       "      <td>1.0</td>\n",
       "      <td>3</td>\n",
       "      <td>6</td>\n",
       "      <td>1933</td>\n",
       "    </tr>\n",
       "    <tr>\n",
       "      <th>3</th>\n",
       "      <td>604000.0</td>\n",
       "      <td>4</td>\n",
       "      <td>3.00</td>\n",
       "      <td>1960</td>\n",
       "      <td>5000</td>\n",
       "      <td>1.0</td>\n",
       "      <td>5</td>\n",
       "      <td>7</td>\n",
       "      <td>1965</td>\n",
       "    </tr>\n",
       "    <tr>\n",
       "      <th>4</th>\n",
       "      <td>510000.0</td>\n",
       "      <td>3</td>\n",
       "      <td>2.00</td>\n",
       "      <td>1680</td>\n",
       "      <td>8080</td>\n",
       "      <td>1.0</td>\n",
       "      <td>3</td>\n",
       "      <td>8</td>\n",
       "      <td>1987</td>\n",
       "    </tr>\n",
       "  </tbody>\n",
       "</table>\n",
       "</div>"
      ],
      "text/plain": [
       "      price  bedrooms  bathrooms  sqft_living  sqft_lot  floors  condition  \\\n",
       "0  221900.0         3       1.00         1180      5650     1.0          3   \n",
       "1  538000.0         3       2.25         2570      7242     2.0          3   \n",
       "2  180000.0         2       1.00          770     10000     1.0          3   \n",
       "3  604000.0         4       3.00         1960      5000     1.0          5   \n",
       "4  510000.0         3       2.00         1680      8080     1.0          3   \n",
       "\n",
       "   grade  yr_built  \n",
       "0      7      1955  \n",
       "1      7      1951  \n",
       "2      6      1933  \n",
       "3      7      1965  \n",
       "4      8      1987  "
      ]
     },
     "execution_count": 4,
     "metadata": {},
     "output_type": "execute_result"
    }
   ],
   "source": [
    "df.head()"
   ]
  },
  {
   "cell_type": "markdown",
   "metadata": {},
   "source": [
    "### Separating observations and labels\n",
    "\n",
    "Extremely important note: We learned the hard way that Pandas stores its values in column-major ordering, but numpy uses row-major. Furthermore, the underlying memory is not contiguous until you call `copy()`, thus making it nearly impossible to use with C without extra legwork."
   ]
  },
  {
   "cell_type": "code",
   "execution_count": 5,
   "metadata": {},
   "outputs": [],
   "source": [
    "y = (df['price'] > df['price'].mean()).astype('float64').copy()\n",
    "X = df.loc[:,'bedrooms':].astype('float64').copy()"
   ]
  },
  {
   "cell_type": "markdown",
   "metadata": {},
   "source": [
    "### Calling our Numpy-based implementation to establish a baseline for coefficients"
   ]
  },
  {
   "cell_type": "code",
   "execution_count": 6,
   "metadata": {},
   "outputs": [],
   "source": [
    "logit = PyLogReg(num_iter=100, fit_intercept=False)"
   ]
  },
  {
   "cell_type": "code",
   "execution_count": 7,
   "metadata": {},
   "outputs": [
    {
     "name": "stderr",
     "output_type": "stream",
     "text": [
      "/home/oupton/git/CUDA_Stats/logreg/classifiers.py:19: RuntimeWarning: overflow encountered in exp\n",
      "  return 1 / (1 + np.exp(-z))\n"
     ]
    }
   ],
   "source": [
    "logit.fit(X.values, y.values)"
   ]
  },
  {
   "cell_type": "code",
   "execution_count": 8,
   "metadata": {},
   "outputs": [
    {
     "data": {
      "text/plain": [
       "array([-1.33800637e-01,  4.09142849e-03,  6.57718073e+01,  3.35666405e+01,\n",
       "       -1.45910210e-02, -2.16409010e-01, -2.01157337e-01, -1.28157098e+02])"
      ]
     },
     "execution_count": 8,
     "metadata": {},
     "output_type": "execute_result"
    }
   ],
   "source": [
    "logit.theta"
   ]
  },
  {
   "cell_type": "code",
   "execution_count": 9,
   "metadata": {},
   "outputs": [],
   "source": [
    "np_yt = logit.predict(X.values, threshold=0.5)"
   ]
  },
  {
   "cell_type": "markdown",
   "metadata": {},
   "source": [
    "### Now calling our CUDA-based implementation to compare"
   ]
  },
  {
   "cell_type": "code",
   "execution_count": 10,
   "metadata": {},
   "outputs": [],
   "source": [
    "logit = LogReg(n_iter=100)"
   ]
  },
  {
   "cell_type": "code",
   "execution_count": 11,
   "metadata": {},
   "outputs": [],
   "source": [
    "logit.fit(X.values.copy(), y.values.copy())"
   ]
  },
  {
   "cell_type": "code",
   "execution_count": 12,
   "metadata": {},
   "outputs": [
    {
     "data": {
      "text/plain": [
       "array([-1.33800637e-01,  4.09142849e-03,  6.57718073e+01,  3.35666405e+01,\n",
       "       -1.45910210e-02, -2.16409010e-01, -2.01157337e-01, -1.28157098e+02])"
      ]
     },
     "execution_count": 12,
     "metadata": {},
     "output_type": "execute_result"
    }
   ],
   "source": [
    "logit.theta"
   ]
  },
  {
   "cell_type": "code",
   "execution_count": 13,
   "metadata": {},
   "outputs": [],
   "source": [
    "cuda_yt = logit.predict(X.values.copy())"
   ]
  },
  {
   "cell_type": "markdown",
   "metadata": {},
   "source": [
    "### Great! Looks like we are getting the correct coefficients from our CUDA-based implementation"
   ]
  },
  {
   "cell_type": "code",
   "execution_count": 14,
   "metadata": {},
   "outputs": [
    {
     "data": {
      "text/plain": [
       "True"
      ]
     },
     "execution_count": 14,
     "metadata": {},
     "output_type": "execute_result"
    }
   ],
   "source": [
    "np.sum(cuda_yt == np_yt) == cuda_yt.shape[0]"
   ]
  },
  {
   "cell_type": "markdown",
   "metadata": {},
   "source": [
    "### Here is our loop that implements the logistic regression\n",
    "```c\n",
    "for (size_t i = 0; i < n_iter; i++) {\n",
    "\n",
    "    // dot(X, theta)\n",
    "    vec_dot_mat<<<GRIDSIZE(m), BLOCKSIZE>>>(Xd, thetad, z, m, n);\n",
    "\n",
    "    // h = sigm(z)\n",
    "    vec_sigmoid<<<GRIDSIZE(m), BLOCKSIZE>>>(z, h, 1, m);\n",
    "\n",
    "    // h = -h\n",
    "    vec_scalar_mul<<<GRIDSIZE(m), BLOCKSIZE>>>(h, h, -1.0, 1, m);\n",
    "\n",
    "    // h = y - h\n",
    "    vec_add<<<GRIDSIZE(m), BLOCKSIZE>>>(h, yd, h, 1, m);\n",
    "\n",
    "    // h = -(y - h) = h - y\n",
    "    vec_scalar_mul<<<GRIDSIZE(m), BLOCKSIZE>>>(h, h, -1.0, 1, m); \n",
    "\n",
    "    // g = dot(Xt, h)\n",
    "    vec_dot_mat<<<GRIDSIZE(n), BLOCKSIZE>>>(Xt, h, g, n, m);\n",
    "\n",
    "    // g = -(g*lr) / m\n",
    "    vec_scalar_mul<<<GRIDSIZE(n), BLOCKSIZE>>>(g, g, -(lr / m), 1, n);\n",
    "\n",
    "    // theta = theta + (-g) = theta - g\n",
    "    vec_add<<<GRIDSIZE(n), BLOCKSIZE>>>(thetad, g, thetad, 1, n);\n",
    "}\n",
    "```"
   ]
  },
  {
   "cell_type": "markdown",
   "metadata": {},
   "source": [
    "### Here is our Python class used to call into CUDA\n",
    "```py\n",
    "import numpy as np\n",
    "import ctypes\n",
    "from ctypes import *\n",
    "\n",
    "LIBPATH = './log_reg.so'\n",
    "\n",
    "class LogisticRegression:\n",
    "    def __init__(self, lr=0.01, n_iter=100000, fit_intercept=True, verbose=False):\n",
    "        self.lr = lr\n",
    "        self.n_iter = n_iter\n",
    "        self.fit_intercept = fit_intercept\n",
    "        self.verbose = verbose\n",
    "        self.lib = ctypes.CDLL(LIBPATH, mode=ctypes.RTLD_GLOBAL)\n",
    "    \n",
    "    def fit(self, X, y):\n",
    "        assert X.shape[0] == y.shape[0], \"Dimensions do not match\"\n",
    "        if not hasattr(self, 'theta'):\n",
    "            self.theta = np.zeros(X.shape[1])\n",
    "        func = self.lib.fit\n",
    "        func.argtypes = [POINTER(c_double), POINTER(c_double), POINTER(c_double), c_double, c_size_t, c_size_t, c_size_t, c_bool]\n",
    "\n",
    "        Xp = X.ctypes.data_as(POINTER(c_double))\n",
    "        yp = y.ctypes.data_as(POINTER(c_double))\n",
    "        thetap = self.theta.ctypes.data_as(POINTER(c_double))\n",
    "\n",
    "        func(Xp, yp, thetap, self.lr, X.shape[0], X.shape[1], self.n_iter, False)\n",
    "\n",
    "    def predict_prob(self, X):\n",
    "        assert X.shape[1] == self.theta.shape[0], \"Dimensions do not match\"\n",
    "        func = self.lib.predict_proba\n",
    "        func.argtypes = [POINTER(c_double), POINTER(c_double), POINTER(c_double), c_size_t, c_size_t]\n",
    "\n",
    "        y = np.zeros(X.shape[0]).astype('float64')\n",
    "\n",
    "        Xp = X.ctypes.data_as(POINTER(c_double))\n",
    "        yp = y.ctypes.data_as(POINTER(c_double))\n",
    "        thetap = self.theta.ctypes.data_as(POINTER(c_double))\n",
    "        func(Xp, thetap, yp, X.shape[0], X.shape[1])\n",
    "        return y\n",
    "    \n",
    "    def predict(self, X, threshold=0.5):\n",
    "        return self.predict_prob(X) >= threshold\n",
    "```"
   ]
  },
  {
   "cell_type": "markdown",
   "metadata": {},
   "source": [
    "### Time analysis data from C executable"
   ]
  },
  {
   "cell_type": "code",
   "execution_count": 22,
   "metadata": {},
   "outputs": [],
   "source": [
    "from scipy import stats"
   ]
  },
  {
   "cell_type": "code",
   "execution_count": 23,
   "metadata": {},
   "outputs": [],
   "source": [
    "df = pd.read_csv('timedata.csv')"
   ]
  },
  {
   "cell_type": "code",
   "execution_count": 24,
   "metadata": {},
   "outputs": [],
   "source": [
    "x = df['m']\n",
    "y = df['cpu_time']"
   ]
  },
  {
   "cell_type": "code",
   "execution_count": 26,
   "metadata": {},
   "outputs": [
    {
     "data": {
      "image/png": "[encoded data removed]",
      "text/plain": [
       "<Figure size 432x288 with 1 Axes>"
      ]
     },
     "metadata": {
      "needs_background": "light"
     },
     "output_type": "display_data"
    }
   ],
   "source": [
    "slope, intercept, r_value, p_value, std_err = stats.linregress(x, y)\n",
    "line = slope*x + intercept\n",
    "\n",
    "plt.plot(x, y,'o', x, line)\n",
    "plt.title('Observations v. CPU Time')\n",
    "plt.xlabel('Observations')\n",
    "plt.ylabel('CPU Time')\n",
    "plt.show()"
   ]
  },
  {
   "cell_type": "code",
   "execution_count": 28,
   "metadata": {},
   "outputs": [
    {
     "name": "stdout",
     "output_type": "stream",
     "text": [
      "Correlation Coefficient: 0.9996554362784382\n"
     ]
    }
   ],
   "source": [
    "print('Correlation Coefficient:', r_value)"
   ]
  },
  {
   "cell_type": "markdown",
   "metadata": {},
   "source": [
    "### Perfectly linear! Sequentially, this would be an O(n^2) problem"
   ]
  }
 ],
 "metadata": {
  "kernelspec": {
   "display_name": "Python 3",
   "language": "python",
   "name": "python3"
  },
  "language_info": {
   "codemirror_mode": {
    "name": "ipython",
    "version": 3
   },
   "file_extension": ".py",
   "mimetype": "text/x-python",
   "name": "python",
   "nbconvert_exporter": "python",
   "pygments_lexer": "ipython3",
   "version": "3.6.7"
  }
 },
 "nbformat": 4,
 "nbformat_minor": 2
}
