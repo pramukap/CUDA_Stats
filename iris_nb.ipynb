{
 "cells": [
  {
   "cell_type": "markdown",
   "metadata": {},
   "source": [
    "# KMeans in CUDA w/ Python Demo\n",
    "\n",
    "### Setup\n",
    "- \"clustering.py\" is the file that contains the KMeans wrapper class\n",
    "- clustering.py makes use of kmeans.so which is build from kmeans.cu and kmeansHelper.cu for CUDA implementation of Kmeans fitting/labeling data\n",
    "- all files were in the same directory when running prior to submission (i.e. kmeans.cu, kmeansHelper.cu, kmeans.so, iris_nb.ipynb, clustering.py)\n"
   ]
  },
  {
   "cell_type": "code",
   "execution_count": 19,
   "metadata": {},
   "outputs": [
    {
     "data": {
      "text/html": [
       "<div>\n",
       "<style scoped>\n",
       "    .dataframe tbody tr th:only-of-type {\n",
       "        vertical-align: middle;\n",
       "    }\n",
       "\n",
       "    .dataframe tbody tr th {\n",
       "        vertical-align: top;\n",
       "    }\n",
       "\n",
       "    .dataframe thead th {\n",
       "        text-align: right;\n",
       "    }\n",
       "</style>\n",
       "<table border=\"1\" class=\"dataframe\">\n",
       "  <thead>\n",
       "    <tr style=\"text-align: right;\">\n",
       "      <th></th>\n",
       "      <th>0</th>\n",
       "      <th>1</th>\n",
       "      <th>2</th>\n",
       "      <th>3</th>\n",
       "    </tr>\n",
       "  </thead>\n",
       "  <tbody>\n",
       "    <tr>\n",
       "      <th>0</th>\n",
       "      <td>5.1</td>\n",
       "      <td>3.5</td>\n",
       "      <td>1.4</td>\n",
       "      <td>0.2</td>\n",
       "    </tr>\n",
       "    <tr>\n",
       "      <th>1</th>\n",
       "      <td>4.9</td>\n",
       "      <td>3.0</td>\n",
       "      <td>1.4</td>\n",
       "      <td>0.2</td>\n",
       "    </tr>\n",
       "    <tr>\n",
       "      <th>2</th>\n",
       "      <td>4.7</td>\n",
       "      <td>3.2</td>\n",
       "      <td>1.3</td>\n",
       "      <td>0.2</td>\n",
       "    </tr>\n",
       "    <tr>\n",
       "      <th>3</th>\n",
       "      <td>4.6</td>\n",
       "      <td>3.1</td>\n",
       "      <td>1.5</td>\n",
       "      <td>0.2</td>\n",
       "    </tr>\n",
       "    <tr>\n",
       "      <th>4</th>\n",
       "      <td>5.0</td>\n",
       "      <td>3.6</td>\n",
       "      <td>1.4</td>\n",
       "      <td>0.2</td>\n",
       "    </tr>\n",
       "  </tbody>\n",
       "</table>\n",
       "</div>"
      ],
      "text/plain": [
       "     0    1    2    3\n",
       "0  5.1  3.5  1.4  0.2\n",
       "1  4.9  3.0  1.4  0.2\n",
       "2  4.7  3.2  1.3  0.2\n",
       "3  4.6  3.1  1.5  0.2\n",
       "4  5.0  3.6  1.4  0.2"
      ]
     },
     "execution_count": 19,
     "metadata": {},
     "output_type": "execute_result"
    }
   ],
   "source": [
    "# Load modules and import iris dataset\n",
    "from clustering import KMeans\n",
    "\n",
    "import numpy as np\n",
    "import pandas as pd\n",
    "import matplotlib.pyplot as plt\n",
    "from sklearn.cluster import KMeans as skKMeans\n",
    "import time\n",
    "\n",
    "data = pd.read_csv('iris.csv',header=None)\n",
    "data.head()"
   ]
  },
  {
   "cell_type": "code",
   "execution_count": 13,
   "metadata": {},
   "outputs": [
    {
     "name": "stdout",
     "output_type": "stream",
     "text": [
      "initalized kmeans with k =  3 , itr =  20\n",
      "mxn:  150 x 4\n",
      "Time to fit model:  0.0011794567108154297\n"
     ]
    },
    {
     "data": {
      "text/plain": [
       "array([[5.00784314, 3.4       , 1.49411765, 0.26078431],\n",
       "       [6.06      , 2.8175    , 4.6425    , 1.5775    ],\n",
       "       [7.17368421, 3.12105263, 6.11578947, 2.12105263]])"
      ]
     },
     "execution_count": 13,
     "metadata": {},
     "output_type": "execute_result"
    }
   ],
   "source": [
    "model = KMeans(k=3, iterations=20, timing=True)\n",
    "model.fit(data)"
   ]
  },
  {
   "cell_type": "code",
   "execution_count": 14,
   "metadata": {},
   "outputs": [
    {
     "name": "stdout",
     "output_type": "stream",
     "text": [
      "Time to label datapoints:  0.0006184577941894531\n"
     ]
    }
   ],
   "source": [
    "labels = model.label(data)"
   ]
  },
  {
   "cell_type": "markdown",
   "metadata": {},
   "source": [
    "### Comparison to sklearn's sequential algorithm"
   ]
  },
  {
   "cell_type": "code",
   "execution_count": 15,
   "metadata": {},
   "outputs": [
    {
     "name": "stdout",
     "output_type": "stream",
     "text": [
      "Time for sklearn to fit kmeans 0.01977229118347168\n"
     ]
    }
   ],
   "source": [
    "model = skKMeans(n_clusters=3, max_iter=20)\n",
    "start = time.time()\n",
    "model.fit(data)\n",
    "end = time.time()\n",
    "print('Time for sklearn to fit kmeans', end-start)"
   ]
  },
  {
   "cell_type": "markdown",
   "metadata": {},
   "source": [
    "## Visualization of Results for Verification of Clustering Algorithm"
   ]
  },
  {
   "cell_type": "code",
   "execution_count": 16,
   "metadata": {},
   "outputs": [
    {
     "data": {
      "image/png": "[encoded data removed]",
      "text/plain": [
       "<Figure size 720x360 with 6 Axes>"
      ]
     },
     "metadata": {},
     "output_type": "display_data"
    }
   ],
   "source": [
    "pairs = set([''.join(str(x) for x in sorted((i,j))) for i in range(4) for j in range(4) if i!=j])\n",
    "\n",
    "f, ax = plt.subplots(2, 3,figsize=(10,5))\n",
    "\n",
    "for i, pair in enumerate(pairs):\n",
    "    x = int(pair[0])\n",
    "    y = int(pair[1])\n",
    "    pltr = ax[i%2,i%3]\n",
    "    pltr.scatter(data[labels==0][x],data[labels==0][y])\n",
    "    pltr.scatter(data[labels==1][x],data[labels==1][y])\n",
    "    pltr.scatter(data[labels==2][x],data[labels==2][y])"
   ]
  },
  {
   "cell_type": "markdown",
   "metadata": {},
   "source": [
    "<video controls src=\"kmeans.mov\">"
   ]
  },
  {
   "cell_type": "markdown",
   "metadata": {},
   "source": [
    "## Code sample from clustering.py (CUDA Python Binding)\n",
    "\n",
    "\n",
    "```python\n",
    "class KMeans:\n",
    "\n",
    "     def __init__(self, k=3, iterations=10, timing=False):\n",
    "         self.k_ = k\n",
    "         self.itr_ = iterations\n",
    "         self.centroids_ = None\n",
    "         self.dylib = ctypes.CDLL('./kmeans.so')\n",
    "         print('initalized kmeans with k = ',k,', itr = ',iterations)\n",
    "         self.timeflag = timing\n",
    "\n",
    "     def fit(self, data):\n",
    "         data = np.array(data, dtype=float)\n",
    "         m = data.shape[0]\n",
    "         if(len(data.shape)>1):\n",
    "             n = data.shape[1]\n",
    "         else:\n",
    "             n = 1\n",
    "         print('mxn: ',m,'x',n)\n",
    "         data = np.reshape(data,(m*n,))\n",
    "         data = data.astype(c_double)\n",
    "         self.centroids_ = np.zeros(self.k_*n).astype(c_double)\n",
    "         func = self.dylib.kmeans\n",
    "         func.argtypes = [POINTER(c_double), c_size_t, c_size_t, c_size_t, POINTER(c_double), c_size_t]\n",
    "         if(self.timeflag):\n",
    "             start = time.time()\n",
    "         func(data.ctypes.data_as(POINTER(c_double)), m, n, self.k_, self.centroids_.ctypes.data_as(POINTER(c_double)), self.itr_)         if(self.timeflag):\n",
    "             end = time.time()\n",
    "             print('Time to fit model: ', end - start)\n",
    "\n",
    "         self.centroids_ = np.reshape(self.centroids_, (self.k_, n))\n",
    "         return self.centroids_\n",
    "```\n",
    "\n",
    "## CUDA Kmeans Fit Function (Iterating over assignment and update kmeans)\n",
    "\n",
    "```c\n",
    "   for(int step__ = 0; step__ < iterations; step__++){\n",
    "   \n",
    "         // Assignment Step\n",
    "         init_zeros<<<m, 1>>>(distances);\n",
    "         assignClasses<<<m, 1>>>(data_d, centroids_d, m, n, k, labels, distances);\n",
    "\n",
    "         // Update Means Step\n",
    "         init_zeros<<<k, 1>>>(counts);\n",
    "         init_zeros<<<k, n>>>(new_mean);\n",
    "         findNewCentroids<<<m, n>>>(data_d, centroids_d, labels, m, n, k, counts);\n",
    "         divide_by_count<<<k, n>>>(new_mean, counts, n, k);\n",
    "\n",
    "     }\n",
    "```\n",
    "\n",
    "## Example CUDA Kernel for assigning classes (called by m total threads, one per observation)\n",
    "\n",
    "```c\n",
    "__global__ void assignClasses(double *data, double *means, int m, int n, int k, int*labels, double*distances){\n",
    "\n",
    "     int idx = blockIdx.x * blockDim.x + threadIdx.x;\n",
    "     int distance = 0;\n",
    "     for(int ki = 0; ki < k; ki++){\n",
    "         for(int i = 0; i < n; i++){\n",
    "             distance += (data[idx*n + i]-means[ki*n + i])*(data[idx*n + i]-means[ki*n + i]);\n",
    "         }\n",
    "         if (ki == 0 || distance < distances[idx]){\n",
    "             labels[idx] = ki;\n",
    "             distances[idx] = distance;\n",
    "         }\n",
    "         distance = 0;\n",
    "     }\n",
    " }\n",
    "```"
   ]
  },
  {
   "cell_type": "code",
   "execution_count": null,
   "metadata": {},
   "outputs": [],
   "source": []
  }
 ],
 "metadata": {
  "kernelspec": {
   "display_name": "Python 3",
   "language": "python",
   "name": "python3"
  },
  "language_info": {
   "codemirror_mode": {
    "name": "ipython",
    "version": 3
   },
   "file_extension": ".py",
   "mimetype": "text/x-python",
   "name": "python",
   "nbconvert_exporter": "python",
   "pygments_lexer": "ipython3",
   "version": "3.6.5"
  }
 },
 "nbformat": 4,
 "nbformat_minor": 2
}
